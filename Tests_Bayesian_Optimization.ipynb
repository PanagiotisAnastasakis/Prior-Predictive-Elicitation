{
 "cells": [
  {
   "cell_type": "code",
   "execution_count": null,
   "metadata": {},
   "outputs": [],
   "source": [
    "from Fundamentals import Bayesian_Optimization\n"
   ]
  },
  {
   "cell_type": "code",
   "execution_count": null,
   "metadata": {},
   "outputs": [],
   "source": [
    "def gaussian_model(lam, n_samples):\n",
    "    \n",
    "    gaussian_model = pm.Model()\n",
    "        \n",
    "    with gaussian_model:\n",
    "\n",
    "        theta = pm.Normal(\"theta\", mu=lam[\"mu_1\"], sigma=lam[\"sigma_1\"])\n",
    "            \n",
    "        Y_obs = pm.Normal(\"Y_obs\", mu=theta, sigma=lam[\"sigma\"], observed=1.)\n",
    "        \n",
    "    with gaussian_model:\n",
    "        \n",
    "        idata = pm.sample_prior_predictive(samples = n_samples)\n",
    "        \n",
    "    return idata\n",
    "\n",
    "\n",
    "partitions = np.array([[-1000, -5], [-5, -1], [-1, 3], [3, 1000]])\n",
    "\n",
    "expert_probs = [np.array([0.1, 0.2, 0.6, 0.1])]\n",
    "\n",
    "\n",
    "\n",
    "BO = Bayesian_Optimization_PO(pymc_sampling_func=gaussian_model,\n",
    "                              J = 1,\n",
    "                              alpha=None,\n",
    "                              target_type=\"continuous\",\n",
    "                              target_samples=1000)\n",
    "\n",
    "\n",
    "   \n",
    "\n",
    "param_names = [\"mu_1\", \"sigma_1\", \"sigma\", \"alpha\"]\n",
    "param_bounds = [[-10., 10.], [0.00001, 4.], [0.00001, 4.], [0.1, 20.]]\n",
    "param_expected_vals = [-1, 3, 0.5, None]\n",
    "param_weights = [1, 1, 1]\n",
    "#param_types = [\"mean\", \"std\", \"std\"] ## No need for specifying type for alpha, but it can be done to add a hyperprior for it\n",
    "\n",
    "   \n",
    "    \n",
    "best_params = BO.optimize_hyperparams(param_names=param_names,\n",
    "                                      param_bounds=param_bounds,\n",
    "                                      param_expected_vals = param_expected_vals,\n",
    "                                      param_weights = param_weights,\n",
    "                                      partitions=partitions,\n",
    "                                      expert_probs=expert_probs,\n",
    "                                      n_trials=75)  \n"
   ]
  }
 ],
 "metadata": {
  "language_info": {
   "name": "python"
  }
 },
 "nbformat": 4,
 "nbformat_minor": 2
}
