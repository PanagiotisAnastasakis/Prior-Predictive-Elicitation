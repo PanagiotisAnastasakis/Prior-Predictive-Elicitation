{
 "cells": [
  {
   "cell_type": "code",
   "execution_count": 1,
   "metadata": {},
   "outputs": [],
   "source": [
    "import jax\n",
    "import jax.numpy as jnp\n",
    "import jax.random as jr\n",
    "import jax.scipy.stats as jss\n",
    "from ppe.dirichlet import dirichlet_log_likelihood, alpha_mle_\n"
   ]
  },
  {
   "cell_type": "code",
   "execution_count": 65,
   "metadata": {},
   "outputs": [],
   "source": [
    "def replace_value_index(lst, index, new_value):\n",
    "    assert lst[index] == new_value\n",
    "    lst[index] = new_value\n",
    "    return lst\n",
    "\n",
    "\n",
    "def set_derivative_fn_discrete(\n",
    "    rng_key,\n",
    "    num_samples,\n",
    "    sampler_fn,\n",
    "    pmf_fn,\n",
    "    pivot_fns,\n",
    "    total_model_probs,\n",
    "    total_expert_probs,\n",
    "    covariate\n",
    "):\n",
    "\n",
    "    @jax.jit\n",
    "    def nonstochastic_derivative(alpha, probs, expert_probs, index):\n",
    "        # Compute the gradient of the dirichlet likelihood wrt the probabilities\n",
    "\n",
    "        if alpha is None:\n",
    "            # If alpha is not provided, compute the MLE\n",
    "            def likelihood_fn(probs):\n",
    "                # Make the computation of alpha depend on the current probs\n",
    "                total_model_probs = replace_value_index(total_model_probs, index, probs)\n",
    "                alpha = alpha_mle_(total_model_probs, total_expert_probs)\n",
    "                return dirichlet_log_likelihood(alpha, probs, expert_probs)\n",
    "\n",
    "        else:\n",
    "            likelihood_fn = lambda probs: dirichlet_log_likelihood(\n",
    "                alpha, probs, expert_probs\n",
    "            )\n",
    "\n",
    "        grad_fn = jax.grad(likelihood_fn)\n",
    "        likelihood_gradient = grad_fn(probs)\n",
    "        return likelihood_gradient\n",
    "\n",
    "    @jax.jit\n",
    "    def stochastic_derivative(lambd, partition, covariate):\n",
    "        # Compute stochastic gradient of each prior predictive probability wrt the hyperparameters\n",
    "        #a = partition\n",
    "        \n",
    "        pivot_sample_1 = sampler_fn(jr.key(0), (num_samples,))\n",
    "        pivot_sample_2 = sampler_fn(jr.key(1), (num_samples,))\n",
    "        pivot_sample_3 = sampler_fn(jr.key(2), (num_samples,))\n",
    "\n",
    "        def function_to_optimize(lambd, partition):\n",
    "            theta_1 = pivot_fns[0](lambd, pivot_sample_1)\n",
    "            theta_2 = pivot_fns[1](lambd, pivot_sample_2)\n",
    "            theta_3 = pivot_fns[2](lambd, pivot_sample_3)\n",
    "                    \n",
    "            theta = jnp.array([theta_1, theta_2, theta_3]).T\n",
    "            \n",
    "            prob_1 = (jss.norm.cdf(theta@covariate)).mean()\n",
    "                                    \n",
    "            val = jnp.array([prob_1, 1-prob_1]) ### bernoulli pmf for class 1 and class 0 respectively\n",
    "                        \n",
    "            return val\n",
    "\n",
    "        stochastic_gradient_fn = jax.jacobian(function_to_optimize, argnums=0)  ## 1st row: dval[0]/dλ, 2nd row dval[1]/dλ\n",
    "        \n",
    "        stochastic_gradient_fn_val = stochastic_gradient_fn(lambd, partition)\n",
    "        \n",
    "        return stochastic_gradient_fn_val\n",
    "        \n",
    "    return nonstochastic_derivative, stochastic_derivative\n"
   ]
  },
  {
   "cell_type": "code",
   "execution_count": 66,
   "metadata": {},
   "outputs": [
    {
     "name": "stdout",
     "output_type": "stream",
     "text": [
      "[[ 0.12232186  0.04892875  0.24464372 -0.05452796 -0.00414541 -0.07282704]\n",
      " [-0.12232186 -0.04892875 -0.24464372  0.05452796  0.00414541  0.07282704]]\n",
      "stochastic gradient [-0.46940294 -0.1877612  -0.9388059   0.20924784  0.01590778  0.2794695 ]\n",
      "Non stochastic gradient [-0.50348127 -0.20139252 -1.0069625   0.06646618  0.01063459  0.26586473]\n"
     ]
    },
    {
     "ename": "AssertionError",
     "evalue": "",
     "output_type": "error",
     "traceback": [
      "\u001b[0;31m---------------------------------------------------------------------------\u001b[0m",
      "\u001b[0;31mAssertionError\u001b[0m                            Traceback (most recent call last)",
      "Cell \u001b[0;32mIn[66], line 65\u001b[0m\n\u001b[1;32m     63\u001b[0m \u001b[38;5;28mprint\u001b[39m(\u001b[38;5;124m\"\u001b[39m\u001b[38;5;124mstochastic gradient\u001b[39m\u001b[38;5;124m\"\u001b[39m, derivative)\n\u001b[1;32m     64\u001b[0m \u001b[38;5;28mprint\u001b[39m(\u001b[38;5;124m\"\u001b[39m\u001b[38;5;124mNon stochastic gradient\u001b[39m\u001b[38;5;124m\"\u001b[39m, test_value)\n\u001b[0;32m---> 65\u001b[0m \u001b[38;5;28;01massert\u001b[39;00m jnp\u001b[38;5;241m.\u001b[39mallclose(test_value, derivative, atol\u001b[38;5;241m=\u001b[39m\u001b[38;5;241m1e-1\u001b[39m)\n\u001b[1;32m     66\u001b[0m \u001b[38;5;28mprint\u001b[39m(\u001b[38;5;124m\"\u001b[39m\u001b[38;5;124mTest passed\u001b[39m\u001b[38;5;124m\"\u001b[39m)\n",
      "\u001b[0;31mAssertionError\u001b[0m: "
     ]
    }
   ],
   "source": [
    "\n",
    "import jax\n",
    "import jax.numpy as jnp\n",
    "import jax.random as jr\n",
    "import jax.scipy.stats as jss\n",
    "from ppe.dirichlet import dirichlet_log_likelihood\n",
    "\n",
    "\n",
    "def get_bernoulli_probs(partition, lam, covariate_set):\n",
    "\n",
    "    nom = jnp.inner(jnp.array(lam[:3]), covariate_set)\n",
    "    den = jnp.sqrt(1 + covariate_set.T@jnp.diag(jnp.array(lam[3:]))@covariate_set)\n",
    "\n",
    "    p1 = jss.norm.cdf(nom / den)\n",
    "    \n",
    "    return jnp.array([p1, 1 - p1])  ### bernoulli pmf for class 1 and class 0 respectively\n",
    "\n",
    "\n",
    "\n",
    "# TODO: Add test for alpha_mle\n",
    "if __name__ == \"__main__\":\n",
    "    partitions = jnp.array([0., 1.])\n",
    "    expert_probs = jnp.array([0.3, 0.7])\n",
    "\n",
    "    # Try simple Gaussian example\n",
    "    alpha = 1.0\n",
    "    lambd_0 = jnp.array([1, 0.5, 0.2, 2.1, 1., 0.7])\n",
    "    covariate = jnp.array([1., 0.4, 2.])\n",
    "    rng_key = jr.key(0)\n",
    "    num_samples = 1_000_000\n",
    "    sampler_fn = jr.normal\n",
    "    pmf_fn = lambda theta, a, covariate: jss.bernoulli.pmf(a, p = jss.norm.cdf(theta@covariate)) ## not used here\n",
    "    pivot_fn_1 = lambda lambd, z: lambd[0] + lambd[3] * z\n",
    "    pivot_fn_2 = lambda lambd, z: lambd[1] + lambd[4] * z\n",
    "    pivot_fn_3 = lambda lambd, z: lambd[2] + lambd[5] * z\n",
    "    pivot_fns = [pivot_fn_1,pivot_fn_2,pivot_fn_3]\n",
    "    # In this case we can obtain probs in closed form, but in general we would need stochastic estimates\n",
    "    probs = get_bernoulli_probs(partitions, lambd_0, covariate)\n",
    "    total_model_probs = [probs]\n",
    "    total_expert_probs = [expert_probs]\n",
    "    nonstochastic_derivative, stochastic_derivative = set_derivative_fn_discrete(\n",
    "        rng_key,\n",
    "        num_samples,\n",
    "        sampler_fn,\n",
    "        pmf_fn,\n",
    "        pivot_fns,\n",
    "        total_model_probs,\n",
    "        total_expert_probs,\n",
    "        covariate\n",
    "    )\n",
    "    derivative_1 = nonstochastic_derivative(alpha, probs, expert_probs, index=0)\n",
    "    #vmap_stochastic_derivative = jax.vmap(stochastic_derivative, in_axes=(None, 0))\n",
    "    derivative_2 = stochastic_derivative(lambd_0, partitions, covariate)\n",
    "    \n",
    "    print(derivative_2)\n",
    "\n",
    "    derivative = jnp.dot(derivative_2.T, derivative_1)\n",
    "\n",
    "    def test_fn(lambd):\n",
    "        probs = get_bernoulli_probs(partitions, lambd, covariate)\n",
    "        return dirichlet_log_likelihood(alpha, probs, expert_probs)\n",
    "\n",
    "    test_value = jax.grad(test_fn)(lambd_0)\n",
    "    print(\"stochastic gradient\", derivative)\n",
    "    print(\"Non stochastic gradient\", test_value)\n",
    "    assert jnp.allclose(test_value, derivative, atol=1e-1)\n",
    "    print(\"Test passed\")\n"
   ]
  },
  {
   "cell_type": "markdown",
   "metadata": {},
   "source": []
  },
  {
   "cell_type": "code",
   "execution_count": 63,
   "metadata": {},
   "outputs": [
    {
     "data": {
      "text/plain": [
       "Array([1.0725993 , 1.0725993 , 1.0725993 , 0.31764325, 0.6685153 ,\n",
       "       0.95131946], dtype=float32)"
      ]
     },
     "execution_count": 63,
     "metadata": {},
     "output_type": "execute_result"
    }
   ],
   "source": [
    "jnp.array([-0.13120234, -0.05248094, -0.26240468,  0.01732044,  0.00277127, 0.06928178])/jnp.array([-0.12232186, -0.04892875, -0.24464372,  0.05452796,  0.00414541,  0.07282704])\n",
    "\n",
    "## the nominator has the true gradient. The are off by a constant mupltiplicatively\n"
   ]
  },
  {
   "cell_type": "code",
   "execution_count": null,
   "metadata": {},
   "outputs": [],
   "source": []
  },
  {
   "cell_type": "code",
   "execution_count": null,
   "metadata": {},
   "outputs": [],
   "source": []
  },
  {
   "cell_type": "code",
   "execution_count": null,
   "metadata": {},
   "outputs": [],
   "source": []
  },
  {
   "cell_type": "code",
   "execution_count": null,
   "metadata": {},
   "outputs": [],
   "source": []
  },
  {
   "cell_type": "code",
   "execution_count": null,
   "metadata": {},
   "outputs": [],
   "source": []
  },
  {
   "cell_type": "code",
   "execution_count": null,
   "metadata": {},
   "outputs": [],
   "source": []
  },
  {
   "cell_type": "code",
   "execution_count": null,
   "metadata": {},
   "outputs": [],
   "source": []
  },
  {
   "cell_type": "code",
   "execution_count": null,
   "metadata": {},
   "outputs": [],
   "source": []
  },
  {
   "cell_type": "code",
   "execution_count": null,
   "metadata": {},
   "outputs": [],
   "source": []
  },
  {
   "cell_type": "code",
   "execution_count": 115,
   "metadata": {},
   "outputs": [],
   "source": [
    "from ppe.dirichlet import Dirichlet\n",
    "\n",
    "\n",
    "\n",
    "\n",
    "def gradient_descent(\n",
    "        total_expert_probs,\n",
    "        lam_0,\n",
    "        iters,\n",
    "        step_size,\n",
    "        tol,\n",
    "        covariates,\n",
    "        get_lik_and_grad_progression=True,\n",
    "    ):\n",
    "\n",
    "        lam_old = lam_0  ## initial value for the hyperparameters\n",
    "\n",
    "        lik_progression = []\n",
    "        grad_progression = []\n",
    "\n",
    "        for i in range(iters):\n",
    "            \n",
    "            prev_model_probs = [get_bernoulli_probs(partitions, lam_old, covariate) for covariate in covariates]\n",
    "            \n",
    "            dir_class = Dirichlet(alpha=22.0, J=3)\n",
    "            \n",
    "            prev_lik = dir_class.sum_llik(prev_model_probs, total_expert_probs)\n",
    "\n",
    "            lik_progression.append(prev_lik)\n",
    "            \n",
    "            \n",
    "            rng_key = jr.key(0)\n",
    "            num_samples = 1_000_000\n",
    "            sampler_fn = jr.normal\n",
    "            pmf_fn = lambda theta, a, covariate: jss.bernoulli.pmf(a, p = jss.norm.cdf(theta@covariate)) ## not used here\n",
    "            pivot_fn_1 = lambda lambd, z: lambd[0] + lambd[3] * z\n",
    "            pivot_fn_2 = lambda lambd, z: lambd[1] + lambd[4] * z\n",
    "            pivot_fn_3 = lambda lambd, z: lambd[2] + lambd[5] * z\n",
    "            pivot_fns = [pivot_fn_1,pivot_fn_2,pivot_fn_3]\n",
    "            # In this case we can obtain probs in closed form, but in general we would need stochastic estimates\n",
    "            probs = get_bernoulli_probs(partitions, lam_old, covariate)\n",
    "            total_model_probs = [probs]\n",
    "            #total_expert_probs = [expert_probs]\n",
    "            nonstochastic_derivative, stochastic_derivative = set_derivative_fn_discrete(\n",
    "                rng_key,\n",
    "                num_samples,\n",
    "                sampler_fn,\n",
    "                pmf_fn,\n",
    "                pivot_fns,\n",
    "                total_model_probs,\n",
    "                total_expert_probs,\n",
    "                covariate\n",
    "            )\n",
    "            \n",
    "            \n",
    "            \n",
    "            derivative_1 = nonstochastic_derivative(alpha, probs, expert_probs, index=0)\n",
    "            #vmap_stochastic_derivative = jax.vmap(stochastic_derivative, in_axes=(None, 0))\n",
    "            derivative_2 = stochastic_derivative(lambd_0, partitions, covariate)\n",
    "\n",
    "            grad_dir_lam = - jnp.dot(derivative_2.T, derivative_1)\n",
    "\n",
    "            grad_progression.append(jnp.linalg.norm(grad_dir_lam))\n",
    "\n",
    "            lam_new = lam_old - step_size * grad_dir_lam\n",
    "\n",
    "            curr_model_probs = [get_bernoulli_probs(partitions, lam_new, covariate) for covariate in covariates]\n",
    "\n",
    "            curr_lik = dir_class.sum_llik(curr_model_probs, total_expert_probs)\n",
    "\n",
    "            if (abs(curr_lik - prev_lik) < tol):  ## Stopping criterion: the dirichlet log likelihood changes less than \"tol\" between two iterations\n",
    "                break\n",
    "\n",
    "            lam_old = lam_new\n",
    "\n",
    "        if get_lik_and_grad_progression:\n",
    "            return lam_new, -jnp.array(lik_progression), jnp.array(grad_progression)\n",
    "\n",
    "        return lam_new\n",
    "\n",
    "\n"
   ]
  },
  {
   "cell_type": "code",
   "execution_count": 116,
   "metadata": {},
   "outputs": [],
   "source": [
    "lam_new, lik_progression, grad_progression = gradient_descent(\n",
    "        total_expert_probs = [jnp.array([0.35, 0.65]), jnp.array([0.3, 0.7]), jnp.array([0.2, 0.8])],\n",
    "        lam_0 = jnp.ones(6),\n",
    "        iters = 200,\n",
    "        step_size = 0.3,\n",
    "        tol = 1e-5,\n",
    "        covariates = [jnp.array([1.3, 0.7, 0.5]), jnp.array([1, 0.5, 0.4]), jnp.array([0.3, 0.7, 2])],\n",
    "        get_lik_and_grad_progression=True,\n",
    "    )\n",
    "\n",
    "\n"
   ]
  },
  {
   "cell_type": "code",
   "execution_count": 117,
   "metadata": {},
   "outputs": [
    {
     "data": {
      "image/png": "[encoded data removed]",
      "text/plain": [
       "<Figure size 640x480 with 1 Axes>"
      ]
     },
     "metadata": {},
     "output_type": "display_data"
    }
   ],
   "source": [
    "import matplotlib.pyplot as plt\n",
    "\n",
    "\n",
    "plt.plot(lik_progression, color=\"Green\", linewidth=1.5)\n",
    "plt.xlabel(\"Gradient descent iterations\")\n",
    "plt.ylabel(\"Dirichlet Negative log likelihood\")\n",
    "plt.grid(True)\n",
    "plt.show()"
   ]
  },
  {
   "cell_type": "code",
   "execution_count": 118,
   "metadata": {},
   "outputs": [
    {
     "data": {
      "image/png": "[encoded data removed]",
      "text/plain": [
       "<Figure size 640x480 with 1 Axes>"
      ]
     },
     "metadata": {},
     "output_type": "display_data"
    }
   ],
   "source": [
    "plt.plot(grad_progression, color=\"Red\", linewidth=1.5)\n",
    "plt.xlabel(\"Gradient descent iterations\")\n",
    "plt.ylabel(\"L^2 Norm of Dirichlet gradient\")\n",
    "plt.grid(True)\n",
    "plt.show()"
   ]
  },
  {
   "cell_type": "code",
   "execution_count": 119,
   "metadata": {},
   "outputs": [
    {
     "data": {
      "text/plain": [
       "Array([ 0.22240731,  0.6889627 , -0.55518556,  1.3466312 ,  1.0263519 ,\n",
       "        1.4629571 ], dtype=float32)"
      ]
     },
     "execution_count": 119,
     "metadata": {},
     "output_type": "execute_result"
    }
   ],
   "source": [
    "lam_new"
   ]
  },
  {
   "cell_type": "code",
   "execution_count": 120,
   "metadata": {},
   "outputs": [
    {
     "data": {
      "text/plain": [
       "Array(3.5907586, dtype=float32)"
      ]
     },
     "execution_count": 120,
     "metadata": {},
     "output_type": "execute_result"
    }
   ],
   "source": [
    "dir_class = Dirichlet(alpha=2.0, J=3)\n",
    "best_model_probs = [get_bernoulli_probs(partitions, lam_new, covariate) for covariate in [jnp.array([1.3, 0.7, 0.5]), jnp.array([1, 0.5, 0.4]), jnp.array([0.3, 0.7, 2])]]\n",
    "total_expert_probs = [jnp.array([0.35, 0.65]), jnp.array([0.3, 0.7]), jnp.array([0.2, 0.8])]\n",
    "\n",
    "dir_class.alpha_mle(best_model_probs, total_expert_probs)\n"
   ]
  },
  {
   "cell_type": "code",
   "execution_count": 121,
   "metadata": {},
   "outputs": [
    {
     "data": {
      "text/plain": [
       "[Array([0.5958285 , 0.40417153], dtype=float32),\n",
       " Array([0.5810996 , 0.41890037], dtype=float32),\n",
       " Array([0.41866308, 0.5813369 ], dtype=float32)]"
      ]
     },
     "execution_count": 121,
     "metadata": {},
     "output_type": "execute_result"
    }
   ],
   "source": [
    "best_model_probs"
   ]
  },
  {
   "cell_type": "code",
   "execution_count": 93,
   "metadata": {},
   "outputs": [
    {
     "data": {
      "text/plain": [
       "[Array([0.35, 0.65], dtype=float32),\n",
       " Array([0.3, 0.7], dtype=float32),\n",
       " Array([0.2, 0.8], dtype=float32)]"
      ]
     },
     "execution_count": 93,
     "metadata": {},
     "output_type": "execute_result"
    }
   ],
   "source": [
    "total_expert_probs"
   ]
  },
  {
   "cell_type": "code",
   "execution_count": null,
   "metadata": {},
   "outputs": [],
   "source": []
  },
  {
   "cell_type": "code",
   "execution_count": null,
   "metadata": {},
   "outputs": [],
   "source": []
  },
  {
   "cell_type": "code",
   "execution_count": null,
   "metadata": {},
   "outputs": [],
   "source": []
  },
  {
   "cell_type": "code",
   "execution_count": null,
   "metadata": {},
   "outputs": [],
   "source": []
  },
  {
   "cell_type": "code",
   "execution_count": 135,
   "metadata": {},
   "outputs": [],
   "source": [
    "import jax.numpy as jnp\n",
    "from jax import grad,jacobian,vmap\n",
    "import pandas as pd\n",
    "import numpy as np\n",
    "import jax.scipy.special as sps\n",
    "import jax.scipy.stats as scs\n",
    "from jax import random\n",
    "import pymc as pm\n",
    "from scipy.special import digamma\n",
    "import matplotlib.pyplot as plt"
   ]
  },
  {
   "cell_type": "code",
   "execution_count": 39,
   "metadata": {},
   "outputs": [],
   "source": [
    "class priors:\n",
    "    \n",
    "    def pivot(self, theta, *args, **kwds):\n",
    "        \n",
    "        \"\"\"\n",
    "        Pivot function of the distribution\n",
    "        \"\"\"\n",
    "        \n",
    "        return self.pivot(theta, *args, **kwds)\n",
    "    \n",
    "    def inverse_pivot(self, x, *args, **kwds):\n",
    "        \n",
    "        \"\"\"\n",
    "        Inverse pivot function of the distribution\n",
    "        \"\"\"\n",
    "        \n",
    "        return self.inverse_pivot(x, *args, **kwds)\n",
    "    \n",
    "    def sample_x(self, *args, **kwds):\n",
    "        \n",
    "        \"\"\"\n",
    "        Function to sample from X (independent from the hyperparameters lambda)\n",
    "        \"\"\"\n",
    "        \n",
    "        return self.sample_x(*args, **kwds)\n",
    "    \n",
    "    def grad_inverse_pivot(self, x, *args, **kwds):\n",
    "        \n",
    "        \"\"\"\n",
    "        Gradient of the inverse pivot with respect to the hyperparameters lambda\n",
    "        \"\"\"\n",
    "        \n",
    "        return self.grad_inverse_pivot(x, *args, **kwds)\n",
    "    \n",
    "\n",
    "\n",
    "class model_probabilities:\n",
    "    \n",
    "    def __init__(self, is_discrete=False):\n",
    "        self.is_discrete = is_discrete\n",
    "    \n",
    "    def cdf(self, y, *args, **kwds):\n",
    "        \n",
    "        return self.cdf(y, *args, **kwds)\n",
    "    \n",
    "    def pdf(self, y, *args, **kwds):\n",
    "        \n",
    "        return self.pdf(y, *args, **kwds)\n",
    "    \n",
    "    def partition_prob(self, partition, *args, **kwds):\n",
    "        \n",
    "        if self.is_discrete:\n",
    "            return self.pdf(partition, *args, **kwds)\n",
    "        \n",
    "        a = partition[0]\n",
    "        b = partition[1]\n",
    "        \n",
    "        return self.cdf(b, *args, **kwds) - self.cdf(a, *args, **kwds)\n",
    "        \n",
    "    def grad_partition_prob(self, partition, *args, **kwds):\n",
    "        \n",
    "        return self.grad_partition_prob(partition, *args, **kwds)\n",
    "    \n",
    "\n",
    "class gaussian_prior(priors):\n",
    "    \n",
    "    def __init__(self, mu=None, sigma=None):\n",
    "        super().__init__()\n",
    "        self.mu = mu\n",
    "        self.sigma = sigma\n",
    "        self.is_discrete = False\n",
    "    \n",
    "    def _update(self, mu, sigma):\n",
    "        self.mu = mu\n",
    "        self.sigma = sigma\n",
    "        \n",
    "    def pivot(self, theta):\n",
    "        \n",
    "        return (theta - self.mu)/self.sigma\n",
    "    \n",
    "    def inverse_pivot(self, x):\n",
    "        \n",
    "        return x * self.sigma + self.mu\n",
    "    \n",
    "    def grad_inverse_pivot(self, x):\n",
    "        \n",
    "        dsigma = x\n",
    "        dmu = jnp.ones(len(dsigma)) if len(dsigma) > 1 else 1.\n",
    "        \n",
    "        return jnp.array([dmu, dsigma]) ## 1st row is dmu, 2nd row is dsigma\n",
    "    \n",
    "    def sample_x(self, size):\n",
    "        \n",
    "        return np.random.normal(size=size)\n",
    "    \n",
    "        \n",
    "\n",
    "\n",
    "\n",
    "class gaussian_model_probs(model_probabilities):\n",
    "    \n",
    "    def __init__(self, mu=None, sigma=None):\n",
    "        super().__init__()\n",
    "        self.mu = mu\n",
    "        self.sigma = sigma\n",
    "        self.is_discrete = False\n",
    "    \n",
    "    def _update(self, mu, sigma):\n",
    "        self.mu = mu\n",
    "        self.sigma = sigma\n",
    "        \n",
    "    def cdf(self, x):\n",
    "        \n",
    "        x = np.asarray(x)\n",
    "        return scs.norm.cdf(x, loc = self.mu, scale = self.sigma)\n",
    "    \n",
    "    def model_prob_gradient(self, partition):\n",
    "        \n",
    "        a = partition[0]\n",
    "        b = partition[1]\n",
    "        \n",
    "        #x = jnp.asarray(x)\n",
    "        \n",
    "        #dmu = - (1/self.sigma) * scs.norm.pdf(b, loc=self.mu, scale=self.sigma) + (1/self.sigma) * scs.norm.pdf(a, loc=self.mu, scale=self.sigma)\n",
    "        dmu = - scs.norm.pdf(b, loc=self.mu, scale=self.sigma) + scs.norm.pdf(a, loc=self.mu, scale=self.sigma)\n",
    "        #dsigma = -((b - self.mu) / self.sigma**2) * scs.norm.pdf(b, loc=self.mu, scale=self.sigma) + ((a - self.mu) / self.sigma**2) * scs.norm.pdf(a, loc=self.mu, scale=self.sigma)\n",
    "        dsigma = -((b - self.mu) / self.sigma) * scs.norm.pdf(b, loc=self.mu, scale=self.sigma) + ((a - self.mu) / self.sigma) * scs.norm.pdf(a, loc=self.mu, scale=self.sigma)\n",
    "        \n",
    "        return jnp.array([dmu, dsigma]) ## 1st row is dmu, 2nd row is dsigma\n",
    "        \n",
    "        #return grad(self.jax_helper_cdf, argnums=1)(b, [self.mu, self.sigma]) - grad(self.jax_helper_cdf, argnums=1)(a, [self.mu, self.sigma]) ### IMPROVE THIS WITH VMAP!!!\n",
    "    \n",
    "    #def jax_helper_cdf(self, x, params):\n",
    "        \n",
    "        #mu = params[0]\n",
    "        #sigma = params[1]\n",
    "        \n",
    "        #return scs.norm.cdf(x, loc = mu, scale = sigma)\n",
    "    \n",
    "    \n",
    "\n",
    "\n",
    "\n",
    "   "
   ]
  },
  {
   "cell_type": "code",
   "execution_count": 40,
   "metadata": {},
   "outputs": [],
   "source": [
    "\n",
    "\n",
    "class bernoulli_model_probs(model_probabilities):\n",
    "    \n",
    "    def __init__(self, p=None):\n",
    "        super().__init__()\n",
    "        self.p = p\n",
    "        self.is_discrete = True\n",
    "    \n",
    "    def _update(self, p):\n",
    "        self.p = p\n",
    "        \n",
    "    def pmf(self, x):\n",
    "        \n",
    "        x = np.asarray(x)\n",
    "        return scs.bernoulli.pmf(x, p=self.p)\n",
    "    \n",
    "    def model_prob_gradient(self, partition):\n",
    "                \n",
    "        dp = jnp.array([2*partition - 1]*len(self.p))\n",
    "        \n",
    "        return dp"
   ]
  },
  {
   "cell_type": "code",
   "execution_count": 41,
   "metadata": {},
   "outputs": [],
   "source": [
    "def model_prob_input(theta, covariate):\n",
    "    \n",
    "    return scs.norm.cdf(theta @ covariate, loc=0, scale=1)\n",
    "    #return scs.norm.cdf(theta, loc=0, scale=1)\n",
    "\n"
   ]
  },
  {
   "cell_type": "code",
   "execution_count": 44,
   "metadata": {},
   "outputs": [],
   "source": [
    "## 3D\n",
    "\n",
    "import scipy.stats as scs\n",
    "\n",
    "mu_1 = 1.\n",
    "sigma_1 = 2.1\n",
    "\n",
    "mu_2 = 0.5\n",
    "sigma_2 = 1.\n",
    "\n",
    "mu_3 = 0.2\n",
    "sigma_3 = 0.7\n",
    "\n",
    "\n",
    "partition = 0.\n",
    "covariate = jnp.array([1, 0.4, 2])\n",
    "#covariate = jnp.array([1])\n",
    "\n",
    "\n",
    "\n",
    "gs_prior_1 = gaussian_prior(mu = mu_1, sigma = sigma_1)\n",
    "gs_prior_2 = gaussian_prior(mu = mu_2, sigma = sigma_2)\n",
    "gs_prior_3 = gaussian_prior(mu = mu_3, sigma = sigma_3)\n",
    "\n",
    "x_samples = gs_prior_1.sample_x(1000000)\n",
    "\n",
    "theta_1 = gs_prior_1.inverse_pivot(x_samples)\n",
    "theta_2 = gs_prior_2.inverse_pivot(x_samples)\n",
    "theta_3 = gs_prior_3.inverse_pivot(x_samples)\n",
    "\n",
    "\n",
    "theta = jnp.array([theta_1, theta_2, theta_3]).T\n",
    "\n",
    "bern_input = model_prob_input(theta, covariate)\n",
    "#bern_input = model_prob_input(theta_1, covariate)\n",
    "\n",
    "\n",
    "bern_probs = bernoulli_model_probs(bern_input)\n",
    "\n",
    "prob_y_given_theta_dtheta_samples = bern_probs.model_prob_gradient(partition) ### times the gradient for the CDF(x*theta)\n",
    "\n",
    "pivot_gaussian_inverse_grad_samples_1 = gs_prior_1.grad_inverse_pivot(x_samples)\n",
    "pivot_gaussian_inverse_grad_samples_2 = gs_prior_2.grad_inverse_pivot(x_samples)\n",
    "pivot_gaussian_inverse_grad_samples_3 = gs_prior_3.grad_inverse_pivot(x_samples)\n",
    "\n",
    "\n",
    "\n",
    "#ppe_dmu_1 = jnp.mean(prob_y_given_theta_dtheta_samples * covariate[0] * scs.norm.pdf(theta_1) * pivot_gaussian_inverse_grad_samples_1[0,:])\n",
    "#ppe_dsigma_1 = jnp.mean(prob_y_given_theta_dtheta_samples * covariate[0] * scs.norm.pdf(theta_1) * pivot_gaussian_inverse_grad_samples_1[1,:])\n",
    "\n",
    "ppe_dmu_1 = jnp.mean(prob_y_given_theta_dtheta_samples * covariate[0] * jss.norm.pdf(theta @ covariate) * pivot_gaussian_inverse_grad_samples_1[0,:])\n",
    "ppe_dsigma_1 = jnp.mean(prob_y_given_theta_dtheta_samples * covariate[0] * jss.norm.pdf(theta @ covariate) * pivot_gaussian_inverse_grad_samples_1[1,:])\n",
    "ppe_dmu_2 = jnp.mean(prob_y_given_theta_dtheta_samples * covariate[1] * jss.norm.pdf(theta @ covariate) * pivot_gaussian_inverse_grad_samples_2[0,:])\n",
    "ppe_dsigma_2 = jnp.mean(prob_y_given_theta_dtheta_samples * covariate[1] * jss.norm.pdf(theta @ covariate) * pivot_gaussian_inverse_grad_samples_2[1,:])\n",
    "ppe_dmu_3 = jnp.mean(prob_y_given_theta_dtheta_samples * covariate[2] * jss.norm.pdf(theta @ covariate) * pivot_gaussian_inverse_grad_samples_3[0,:])\n",
    "ppe_dsigma_3 = jnp.mean(prob_y_given_theta_dtheta_samples * covariate[2] * jss.norm.pdf(theta @ covariate) * pivot_gaussian_inverse_grad_samples_3[1,:])"
   ]
  },
  {
   "cell_type": "code",
   "execution_count": 45,
   "metadata": {},
   "outputs": [
    {
     "data": {
      "text/plain": [
       "[Array(-0.09127498, dtype=float32),\n",
       " Array(-0.03650999, dtype=float32),\n",
       " Array(-0.18254997, dtype=float32),\n",
       " Array(0.03515475, dtype=float32),\n",
       " Array(0.0140619, dtype=float32),\n",
       " Array(0.0703095, dtype=float32)]"
      ]
     },
     "execution_count": 45,
     "metadata": {},
     "output_type": "execute_result"
    }
   ],
   "source": [
    "[ppe_dmu_1, ppe_dmu_2, ppe_dmu_3, ppe_dsigma_1, ppe_dsigma_2, ppe_dsigma_3]\n"
   ]
  },
  {
   "cell_type": "code",
   "execution_count": 58,
   "metadata": {},
   "outputs": [
    {
     "data": {
      "text/plain": [
       "Array([0.39758018, 0.15903208, 0.79516035], dtype=float32)"
      ]
     },
     "execution_count": 58,
     "metadata": {},
     "output_type": "execute_result"
    }
   ],
   "source": [
    "covariate * scs.norm.pdf(theta_1[1])"
   ]
  },
  {
   "cell_type": "code",
   "execution_count": 62,
   "metadata": {},
   "outputs": [
    {
     "data": {
      "text/plain": [
       "Array([-0.13120234, -0.05248094, -0.26240468,  0.01732044,  0.00277127,\n",
       "        0.06928178], dtype=float32)"
      ]
     },
     "execution_count": 62,
     "metadata": {},
     "output_type": "execute_result"
    }
   ],
   "source": [
    "def get_bernoulli_probs(partition, lam, covariate_set):\n",
    "\n",
    "    nom = jnp.inner(jnp.array(lam[:3]), covariate_set)\n",
    "    den = jnp.sqrt(1 + covariate_set.T@jnp.diag(jnp.array(lam[3:]))@covariate_set)\n",
    "\n",
    "    p1 = jss.norm.cdf(nom / den)\n",
    "\n",
    "    if partition == 0:\n",
    "        return 1 - p1\n",
    "\n",
    "    return p1\n",
    "\n",
    "\n",
    "jax.grad(get_bernoulli_probs, argnums=1)(partition, jnp.array([1, 0.5, 0.2, 2.1, 1., 0.7]), jnp.array([1., 0.4, 2.]))"
   ]
  },
  {
   "cell_type": "code",
   "execution_count": 11,
   "metadata": {},
   "outputs": [
    {
     "name": "stdout",
     "output_type": "stream",
     "text": [
      "-0.037504736 -0.07426492 -0.043655336\n"
     ]
    }
   ],
   "source": [
    "### DOES NOT WORK YET\n",
    "\n",
    "\n",
    "mu_1 = 2.\n",
    "sigma = 3.4\n",
    "sigma_1 = 2.\n",
    "\n",
    "partition = np.array([-2.,3.])\n",
    "\n",
    "\n",
    "gs_prior = gaussian_prior(mu = mu_1, sigma = sigma_1)\n",
    "\n",
    "x_samples = gs_prior.sample_x(1000000)\n",
    "\n",
    "theta = gs_prior.inverse_pivot(x_samples)\n",
    "\n",
    "gs_probs = gaussian_model_probs(mu = theta, sigma = sigma)\n",
    "\n",
    "prob_y_given_theta_dtheta_samples = gs_probs.model_prob_gradient(partition)[0,:]\n",
    "\n",
    "prob_y_given_theta_dsigma_samples = gs_probs.model_prob_gradient(partition)[1,:]\n",
    "\n",
    "pivot_gaussian_inverse_grad_samples = gs_prior.grad_inverse_pivot(x_samples)\n",
    "\n",
    "\n",
    "ppe_dmu1 = jnp.mean(prob_y_given_theta_dtheta_samples * pivot_gaussian_inverse_grad_samples[0,:])\n",
    "ppe_dsigma1 = jnp.mean(prob_y_given_theta_dtheta_samples * pivot_gaussian_inverse_grad_samples[1,:])\n",
    "ppe_dsigma = jnp.mean(prob_y_given_theta_dsigma_samples)\n",
    "\n",
    "print(ppe_dmu1, ppe_dsigma, ppe_dsigma1)"
   ]
  },
  {
   "cell_type": "code",
   "execution_count": 12,
   "metadata": {},
   "outputs": [
    {
     "name": "stdout",
     "output_type": "stream",
     "text": [
      "[-0.03745686 -0.07426268 -0.04368392]\n"
     ]
    }
   ],
   "source": [
    "def get_gaussian_probs(partition, lam):\n",
    "    \n",
    "    mu_1 = lam[0]\n",
    "    sigma = lam[1]\n",
    "    sigma_1 = lam[2]\n",
    "    \n",
    "    a = partition[0]\n",
    "    b = partition[1]\n",
    "    \n",
    "    p1 = scs.norm.cdf((b - mu_1)/jnp.sqrt(sigma**2 + sigma_1**2)) - scs.norm.cdf((a - mu_1)/jnp.sqrt(sigma**2 + sigma_1**2))    \n",
    "    \n",
    "    return p1\n",
    "\n",
    "lam = jnp.array([mu_1, sigma, sigma_1])\n",
    "partition = jnp.array([-2., 3.])\n",
    "\n",
    "print(grad(get_gaussian_probs, argnums=1)(partition, lam))"
   ]
  },
  {
   "cell_type": "code",
   "execution_count": null,
   "metadata": {},
   "outputs": [],
   "source": []
  }
 ],
 "metadata": {
  "kernelspec": {
   "display_name": "ppe3",
   "language": "python",
   "name": "python3"
  },
  "language_info": {
   "codemirror_mode": {
    "name": "ipython",
    "version": 3
   },
   "file_extension": ".py",
   "mimetype": "text/x-python",
   "name": "python",
   "nbconvert_exporter": "python",
   "pygments_lexer": "ipython3",
   "version": "3.11.9"
  }
 },
 "nbformat": 4,
 "nbformat_minor": 2
}
