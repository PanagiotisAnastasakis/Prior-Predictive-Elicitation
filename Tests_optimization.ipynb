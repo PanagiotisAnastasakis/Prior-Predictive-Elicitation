{
 "cells": [
  {
   "cell_type": "code",
   "execution_count": 2,
   "metadata": {},
   "outputs": [],
   "source": [
    "from Fundamentals import optimize_ppe\n",
    "import jax.numpy as jnp\n",
    "import numpy as np\n",
    "import jax.scipy.stats as scs\n",
    "import matplotlib.pyplot as plt"
   ]
  },
  {
   "cell_type": "markdown",
   "metadata": {},
   "source": [
    "## Example 1: Simple Gaussian model\n",
    "\n",
    "We assume $ Y \\sim \\mathcal{N}(\\theta, \\sigma)$, with $\\theta \\sim \\mathcal{N}(\\mu_1, \\sigma_1)$. Then, we have the hyperparameter vector $\\pmb{\\lambda} = [\\mu_1, \\sigma, \\sigma_1]$. Also, for $ A = (a,b] $, we know that \n",
    "\n",
    "$$\\mathbb{P}_{A|\\pmb{\\lambda}} = \\Phi \\Big((b - \\mu_1)/\\sqrt{\\sigma^2 + \\sigma_1^2} \\Big) - \\Phi \\Big((a - \\mu_1)/\\sqrt{\\sigma^2 + \\sigma_1^2} \\Big)$$"
   ]
  },
  {
   "cell_type": "markdown",
   "metadata": {},
   "source": [
    "### Optimizing $\\lambda$ only"
   ]
  },
  {
   "cell_type": "code",
   "execution_count": 3,
   "metadata": {},
   "outputs": [
    {
     "ename": "ValueError",
     "evalue": "not enough values to unpack (expected 3, got 2)",
     "output_type": "error",
     "traceback": [
      "\u001b[0;31m---------------------------------------------------------------------------\u001b[0m",
      "\u001b[0;31mValueError\u001b[0m                                Traceback (most recent call last)",
      "Cell \u001b[0;32mIn[3], line 42\u001b[0m\n\u001b[1;32m     34\u001b[0m J \u001b[38;5;241m=\u001b[39m \u001b[38;5;241m2\u001b[39m\n\u001b[1;32m     37\u001b[0m opt_class \u001b[38;5;241m=\u001b[39m optimize_ppe(alpha\u001b[38;5;241m=\u001b[39m\u001b[38;5;241m6\u001b[39m, J\u001b[38;5;241m=\u001b[39mJ, ppd\u001b[38;5;241m=\u001b[39mget_gaussian_probs)\n\u001b[0;32m---> 42\u001b[0m lam_new, lik_progression, grad_progression \u001b[38;5;241m=\u001b[39m opt_class\u001b[38;5;241m.\u001b[39mgradient_descent(partitions, expert_probs, lam_0\u001b[38;5;241m=\u001b[39mnp\u001b[38;5;241m.\u001b[39mones(\u001b[38;5;241m3\u001b[39m)\u001b[38;5;241m*\u001b[39m\u001b[38;5;241m2\u001b[39m, iters \u001b[38;5;241m=\u001b[39m \u001b[38;5;241m500\u001b[39m, step_size\u001b[38;5;241m=\u001b[39m\u001b[38;5;241m0.2\u001b[39m, tol \u001b[38;5;241m=\u001b[39m \u001b[38;5;241m1e-5\u001b[39m)\n\u001b[1;32m     46\u001b[0m plt\u001b[38;5;241m.\u001b[39mplot(lik_progression)\n\u001b[1;32m     47\u001b[0m plt\u001b[38;5;241m.\u001b[39mxlabel(\u001b[38;5;124m\"\u001b[39m\u001b[38;5;124mGradient descent iterations\u001b[39m\u001b[38;5;124m\"\u001b[39m)\n",
      "\u001b[0;31mValueError\u001b[0m: not enough values to unpack (expected 3, got 2)"
     ]
    }
   ],
   "source": [
    "## We define the prior predictive distribution (ppd) for the gaussian model:\n",
    "\n",
    "def get_gaussian_probs(partition, lam):\n",
    "    \n",
    "    \n",
    "    mu_1 = lam[0]\n",
    "    sigma = lam[1]\n",
    "    sigma_1 = lam[2]\n",
    "    \n",
    "    p1 = scs.norm.cdf((partition[1] - mu_1)/jnp.sqrt(sigma**2 + sigma_1**2)) - scs.norm.cdf((partition[0] - mu_1)/jnp.sqrt(sigma**2 + sigma_1**2))    \n",
    "    \n",
    "    return p1\n",
    "\n",
    "\n",
    "### The lower and upper partitions should be wide enough so that the probabilities sum to 1!\n",
    "\n",
    "\"\"\"\n",
    "\n",
    "partitions = [np.array([[-1000,-2], [-2, 3], [3, 1000]])]\n",
    "\n",
    "expert_probs = [np.array([0.2, 0.7, 0.1])]\n",
    "\n",
    "J = 1\n",
    "                \n",
    "\"\"\"\n",
    "\n",
    "\n",
    "partitions = [np.array([[-1000,-2], [-2, 3], [3, 1000]]),\n",
    "              np.array([[-1000,-1], [-1, 1000]])]\n",
    "\n",
    "expert_probs = [np.array([0.2, 0.7, 0.1]),\n",
    "                np.array([0.7, 0.3])]\n",
    "\n",
    "J = 2\n",
    "\n",
    "\n",
    "opt_class = optimize_ppe(alpha=6, J=J, ppd=get_gaussian_probs)\n",
    "\n",
    "\n",
    "\n",
    "\n",
    "lam_new, lik_progression, grad_progression = opt_class.gradient_descent(partitions, expert_probs, lam_0=np.ones(3)*2, iters = 500, step_size=0.2, tol = 1e-5)\n",
    "\n",
    "\n",
    "\n",
    "plt.plot(lik_progression)\n",
    "plt.xlabel(\"Gradient descent iterations\")\n",
    "plt.ylabel(\"Dirichlet Negative log likelihood\")\n",
    "plt.show()"
   ]
  },
  {
   "cell_type": "code",
   "execution_count": 3,
   "metadata": {},
   "outputs": [
    {
     "data": {
      "text/plain": [
       "Array([-0.8748227,  2.2349665,  2.2349665], dtype=float32)"
      ]
     },
     "execution_count": 3,
     "metadata": {},
     "output_type": "execute_result"
    }
   ],
   "source": [
    "lam_new"
   ]
  },
  {
   "cell_type": "code",
   "execution_count": 4,
   "metadata": {},
   "outputs": [
    {
     "data": {
      "text/plain": [
       "Array(8.496458, dtype=float32)"
      ]
     },
     "execution_count": 4,
     "metadata": {},
     "output_type": "execute_result"
    }
   ],
   "source": [
    "opt_class.get_alpha(partitions, lam_new, expert_probs)"
   ]
  },
  {
   "cell_type": "code",
   "execution_count": 5,
   "metadata": {},
   "outputs": [
    {
     "data": {
      "text/plain": [
       "[Array([0.36092487, 0.52896273, 0.11011243], dtype=float32),\n",
       " Array([0.4842044, 0.5157956], dtype=float32)]"
      ]
     },
     "execution_count": 5,
     "metadata": {},
     "output_type": "execute_result"
    }
   ],
   "source": [
    "[opt_class.ppd_function(partition, lam_new) for partition in partitions]"
   ]
  },
  {
   "cell_type": "code",
   "execution_count": 6,
   "metadata": {},
   "outputs": [
    {
     "data": {
      "text/plain": [
       "[array([0.2, 0.7, 0.1]), array([0.7, 0.3])]"
      ]
     },
     "execution_count": 6,
     "metadata": {},
     "output_type": "execute_result"
    }
   ],
   "source": [
    "expert_probs"
   ]
  },
  {
   "cell_type": "code",
   "execution_count": null,
   "metadata": {},
   "outputs": [],
   "source": []
  },
  {
   "cell_type": "markdown",
   "metadata": {},
   "source": [
    "### Optimizing both $\\alpha$ and $\\lambda$"
   ]
  },
  {
   "cell_type": "code",
   "execution_count": 7,
   "metadata": {},
   "outputs": [
    {
     "data": {
      "image/png": "[encoded data removed]",
      "text/plain": [
       "<Figure size 640x480 with 1 Axes>"
      ]
     },
     "metadata": {},
     "output_type": "display_data"
    }
   ],
   "source": [
    "\n",
    "partitions = [np.array([[-1000,-2], [-2, 3], [3, 1000]]),\n",
    "              np.array([[-1000,-1], [-1, 1000]])]\n",
    "\n",
    "expert_probs = [np.array([0.2, 0.7, 0.1]),\n",
    "                np.array([0.7, 0.3])]\n",
    "\n",
    "J = 2\n",
    "\n",
    "opt_class = optimize_ppe(alpha=None, J = 2, ppd=get_gaussian_probs)\n",
    "\n",
    "\n",
    "lam_new, lik_progression, grad_progression = opt_class.gradient_descent(partitions, expert_probs, lam_0=np.ones(3)*2, iters = 1000, step_size=0.1, tol = 1e-5) \n",
    "\n",
    "plt.plot(lik_progression)\n",
    "plt.xlabel(\"Gradient descent iterations\")\n",
    "plt.ylabel(\"Dirichlet Negative log likelihood\")\n",
    "plt.show()"
   ]
  },
  {
   "cell_type": "code",
   "execution_count": 8,
   "metadata": {},
   "outputs": [
    {
     "data": {
      "text/plain": [
       "Array([-0.34123665,  1.9267907 ,  1.9267907 ], dtype=float32)"
      ]
     },
     "execution_count": 8,
     "metadata": {},
     "output_type": "execute_result"
    }
   ],
   "source": [
    "lam_new"
   ]
  },
  {
   "cell_type": "code",
   "execution_count": 9,
   "metadata": {},
   "outputs": [
    {
     "data": {
      "text/plain": [
       "Array(7.3774786, dtype=float32)"
      ]
     },
     "execution_count": 9,
     "metadata": {},
     "output_type": "execute_result"
    }
   ],
   "source": [
    "opt_class.get_alpha(partitions, lam_new, expert_probs)  "
   ]
  },
  {
   "cell_type": "markdown",
   "metadata": {},
   "source": [
    "## Second example: binary classification in the presence of covariates (taken from the paper)\n",
    "\n",
    "We consider a generative model for binary data in the presence of a vector of covariates. The observable variable conditioned on the parameters is distributed according to a Bernoulli model and we take a multivariate Gaussian distribution as the prior distribution for the vector of parameters in the predictor function. This can be formalized as:\n",
    "\n",
    "$$ y|\\pmb{\\theta} \\sim \\pmb{\\mathcal{B}(\\Phi (\\pmb{x}^{\\text{T}}\\pmb{\\theta}))}, $$\n",
    "\n",
    "where\n",
    "\n",
    "$$\\pmb{\\theta} \\sim \\mathcal{N}_D(\\mu, \\Sigma).$$\n",
    "\n",
    "This gives us\n",
    "\n",
    "$$ y \\sim \\mathcal{B}(p(\\pmb{x}, \\pmb{\\lambda})),$$\n",
    "\n",
    "where \n",
    "\n",
    "$$ p(\\pmb{x}, \\pmb{\\lambda}) = \\Phi \\Big(\\frac{\\pmb{x}^{\\text{T}}\\pmb{\\mu}}{\\sqrt{1 + \\pmb{x}^{\\text{T}}\\Sigma\\pmb{x}}}\\Big).$$\n",
    "\n",
    "Our hyperparameter set is defined as $\\pmb{\\lambda} = [\\mu, \\Sigma]$. Since we have binary classification, there are only two partitions, ${0,1}$. If we define $A_1 = \\mathbb{P}(y=0)$ and $A_2 = \\mathbb{P}(y=1)$ we get:\n",
    "\n",
    "$$\\mathbb{P}_{A_1 | \\pmb{\\lambda}} = 1 -  p(\\pmb{x}^{\\text{T}}\\pmb{\\lambda}) \\text{ and } \\mathbb{P}_{A_2 | \\pmb{\\lambda}} = p(\\pmb{x}^{\\text{T}}\\pmb{\\lambda}).$$\n",
    "\n",
    "For this example we assume $N=3$ and that the variables are independent with one another, meaning that $\\Sigma$ is a diagonal matrix."
   ]
  },
  {
   "cell_type": "markdown",
   "metadata": {},
   "source": [
    "### Optimizing $\\lambda$ only"
   ]
  },
  {
   "cell_type": "code",
   "execution_count": 10,
   "metadata": {},
   "outputs": [
    {
     "data": {
      "image/png": "[encoded data removed]",
      "text/plain": [
       "<Figure size 640x480 with 1 Axes>"
      ]
     },
     "metadata": {},
     "output_type": "display_data"
    }
   ],
   "source": [
    "def get_bernoulli_probs(partition, lam, covariate_set):\n",
    "\n",
    "    nom = jnp.inner(jnp.array(lam[:3]), covariate_set)\n",
    "    den = jnp.sqrt(1 + covariate_set.T@jnp.diag(jnp.array(lam[3:]))@covariate_set)\n",
    "    \n",
    "    p1 = 1 - scs.norm.cdf(nom / den)\n",
    "    \n",
    "    if partition == 0:\n",
    "        return p1\n",
    "    \n",
    "    return 1 - p1\n",
    "\n",
    "\n",
    "\n",
    "\n",
    "### The lower and upper partitions should be wide enough so that the probabilities sum to 1\n",
    "\n",
    "partitions = [np.array([0,1]),\n",
    "              np.array([0,1]),\n",
    "              np.array([0,1])]\n",
    "\n",
    "expert_probs = [np.array([0.35, 0.65]),\n",
    "                np.array([0.3, 0.7]),\n",
    "                np.array([0.2, 0.8])]\n",
    "\n",
    "total_covariate_sets = [np.array([1.3, 0.7, 0.5]),\n",
    "                        np.array([1, 0.5, 0.4]),\n",
    "                        np.array([0.3, 0.7, 2])]\n",
    "\n",
    "J = 3\n",
    "\n",
    "opt_class = optimize_ppe(alpha=2, J = J, ppd=get_bernoulli_probs)\n",
    "\n",
    "\n",
    "\n",
    "\n",
    "lam_new, lik_progression, grad_progression = opt_class.gradient_descent(partitions, expert_probs, lam_0=np.ones(6)*2.0, iters = 1000, step_size=0.5, tol = 1e-5, total_covariates=total_covariate_sets)\n",
    "\n",
    "\n",
    "plt.plot(lik_progression)\n",
    "plt.xlabel(\"Gradient descent iterations\")\n",
    "plt.ylabel(\"Dirichlet Negative log likelihood\")\n",
    "plt.show()"
   ]
  },
  {
   "cell_type": "code",
   "execution_count": 11,
   "metadata": {},
   "outputs": [
    {
     "data": {
      "text/plain": [
       "Array([-0.04651845,  0.75005734,  0.6158555 ,  2.7699318 ,  2.2584825 ,\n",
       "        2.5274518 ], dtype=float32)"
      ]
     },
     "execution_count": 11,
     "metadata": {},
     "output_type": "execute_result"
    }
   ],
   "source": [
    "lam_new"
   ]
  },
  {
   "cell_type": "code",
   "execution_count": 12,
   "metadata": {},
   "outputs": [
    {
     "data": {
      "text/plain": [
       "Array(25.758554, dtype=float32)"
      ]
     },
     "execution_count": 12,
     "metadata": {},
     "output_type": "execute_result"
    }
   ],
   "source": [
    "opt_class.get_alpha(partitions, lam_new, expert_probs, total_covariate_sets)"
   ]
  },
  {
   "cell_type": "markdown",
   "metadata": {},
   "source": [
    "### Optimizing both $\\alpha$ and $\\lambda$"
   ]
  },
  {
   "cell_type": "code",
   "execution_count": 13,
   "metadata": {},
   "outputs": [
    {
     "data": {
      "image/png": "[encoded data removed]",
      "text/plain": [
       "<Figure size 640x480 with 1 Axes>"
      ]
     },
     "metadata": {},
     "output_type": "display_data"
    }
   ],
   "source": [
    "opt_class = optimize_ppe(alpha=None, J = J, ppd=get_bernoulli_probs)\n",
    "lam_new, lik_progression, grad_progression = opt_class.gradient_descent(partitions, expert_probs, lam_0=np.ones(6)*2.0, iters = 500, step_size=0.01, tol = 1e-6, total_covariates=total_covariate_sets)\n",
    "\n",
    "\n",
    "plt.plot(lik_progression)\n",
    "plt.xlabel(\"Gradient descent iterations\")\n",
    "plt.ylabel(\"Dirichlet Negative log likelihood\")\n",
    "plt.show()"
   ]
  },
  {
   "cell_type": "code",
   "execution_count": 14,
   "metadata": {},
   "outputs": [
    {
     "data": {
      "text/plain": [
       "Array([0.2513407 , 0.21384473, 1.3087399 , 2.691388  , 2.2928512 ,\n",
       "       2.2733684 ], dtype=float32)"
      ]
     },
     "execution_count": 14,
     "metadata": {},
     "output_type": "execute_result"
    }
   ],
   "source": [
    "lam_new"
   ]
  },
  {
   "cell_type": "code",
   "execution_count": 15,
   "metadata": {},
   "outputs": [
    {
     "data": {
      "text/plain": [
       "Array(351.77167, dtype=float32)"
      ]
     },
     "execution_count": 15,
     "metadata": {},
     "output_type": "execute_result"
    }
   ],
   "source": [
    "opt_class.get_alpha(partitions, lam_new, expert_probs, total_covariate_sets) ## resulting alpha from the MLE closed form solution for the optimized hyperparameters lambda"
   ]
  },
  {
   "cell_type": "code",
   "execution_count": 16,
   "metadata": {},
   "outputs": [],
   "source": [
    "best_model_probs = [np.array(opt_class.ppd_function(partitions[j], lam_new, total_covariate_sets[j])) for j in range(len(expert_probs))]"
   ]
  },
  {
   "cell_type": "code",
   "execution_count": 17,
   "metadata": {},
   "outputs": [
    {
     "data": {
      "text/plain": [
       "[array([0.33715075, 0.66284925], dtype=float32),\n",
       " array([0.3409537, 0.6590463], dtype=float32),\n",
       " array([0.20053267, 0.7994673 ], dtype=float32)]"
      ]
     },
     "execution_count": 17,
     "metadata": {},
     "output_type": "execute_result"
    }
   ],
   "source": [
    "best_model_probs"
   ]
  },
  {
   "cell_type": "code",
   "execution_count": null,
   "metadata": {},
   "outputs": [],
   "source": []
  }
 ],
 "metadata": {
  "kernelspec": {
   "display_name": "ppe3",
   "language": "python",
   "name": "python3"
  },
  "language_info": {
   "codemirror_mode": {
    "name": "ipython",
    "version": 3
   },
   "file_extension": ".py",
   "mimetype": "text/x-python",
   "name": "python",
   "nbconvert_exporter": "python",
   "pygments_lexer": "ipython3",
   "version": "3.11.9"
  }
 },
 "nbformat": 4,
 "nbformat_minor": 2
}
