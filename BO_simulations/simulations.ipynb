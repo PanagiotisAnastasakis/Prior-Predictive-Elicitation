{
 "cells": [
  {
   "cell_type": "markdown",
   "metadata": {},
   "source": [
    "## Simulations of PPE using Bayesian Optimization"
   ]
  },
  {
   "cell_type": "markdown",
   "metadata": {},
   "source": [
    "In this notebook, we will perform simulations for known probabilistic distributions of a target $Y$, aiming to evaluate the effectiveness of Bayesian Optimization (BO) for inferring an optimal set of hyperparameters. To achieve that, we will assume a probabilistic distribution $Y | \\pmb{\\theta} \\sim \\pi_{Y | \\pmb{\\theta}}$, where $\\pmb{\\theta}\\sim\\pi_{\\pmb{\\theta}}$, with $\\pi_{\\pmb{\\theta}}$ belonging to a family of distributions that is indexed by a hyperparameter vector $\\pmb{\\lambda}$. For a fixed value $\\pmb{\\lambda_{\\text{true}}}$, we will obtain simulated expert probabilities for a given partition, which we will subsequently use to perform PPE using BO. The experiment will involve partitions with different number of bins, and also different number of covariates $J$, whenever the target is dependent on a set of covariates, to test how efficient the method is with more detailed partitions and also more covariate sets for which there is expert input.\n",
    "\n",
    "We will run simulations for three different families of probabilistic models. The first is the gaussian family, where we assume that $$Y\\sim \\mathcal{N}(\\mu, \\sigma^2),$$ with different possible priors then used to define $\\mu$ and $\\sigma$.\n",
    "\n",
    "The second probabilistic model family again assumes that $Y$ is drawn from a gaussian distribution, but now the mean is estimated as a linear combination of a set of covariates $x_1,...,x_n$:\n",
    "$$Y\\sim\\mathcal{N}(b_0 + \\prod_{i=1}^{n}b_i\\cdot x_i, \\sigma^2),$$\n",
    "\n",
    "where $b_i \\sim \\mathcal{N}(\\mu_i, \\sigma_i)$.\n",
    "\n",
    "The third family is that of logistic regression, where $Y$ is now binary and a function of covariates x = \\{$x_1,...,x_n$\\}. In probabilistic notation, we have:\n",
    "\n",
    "$$Y\\sim\\mathcal{B}(p(\\pmb{x}, \\pmb{\\theta})),$$\n",
    "\n",
    "where $p(\\pmb{x}, \\pmb{\\theta}) = \\frac{e^{\\pmb{x}^{\\Tau} \\pmb{\\theta}}}{1 + e^{\\pmb{x}^{\\Tau} \\pmb{\\theta}}}$, with $\\theta_i \\sim \\mathcal{N}(\\mu_i, \\sigma_i^2)$.\n"
   ]
  },
  {
   "cell_type": "markdown",
   "metadata": {},
   "source": [
    "## Model Family 1: Gaussian distribution with no covariates"
   ]
  },
  {
   "cell_type": "markdown",
   "metadata": {},
   "source": [
    "For the first model family, we will test two models, namely Model 1 and Model 2. For each, we will implement PPE with BO, considering multiple partitionings, each with a different number of bins. We will test partitionings with 2, 5, 10 and 20 bins. The way we construct the partitionings is by taking an area where $Y$ is \"more likely to be into\", and partition it according to the number of bins. Then, we also consider two additional partitions for the lower and upper tails of the distribution so that the total number of bins is the one desired."
   ]
  },
  {
   "cell_type": "markdown",
   "metadata": {},
   "source": [
    "### Model 1\n",
    "\n",
    "For the first model, we assume that $Y\\sim \\mathcal{N}(\\mu, \\sigma^2)$, where $\\mu \\sim \\mathcal{N}(\\mu_1, \\sigma_1)$ and $\\sigma \\sim \\text{Gamma}(a, b)$. Our hyperparameter vector is then $\\pmb{\\lambda} = [\\mu_1, \\sigma_1, a, b]$. For the simulation, we assume that $\\mu_1 = 5, \\sigma_1 = 2, a = 2$ and $b = 3$."
   ]
  },
  {
   "cell_type": "markdown",
   "metadata": {},
   "source": []
  }
 ],
 "metadata": {
  "language_info": {
   "name": "python"
  }
 },
 "nbformat": 4,
 "nbformat_minor": 2
}
